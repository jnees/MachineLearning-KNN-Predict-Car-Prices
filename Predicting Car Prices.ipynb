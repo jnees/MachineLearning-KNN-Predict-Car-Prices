{
 "cells": [
  {
   "cell_type": "markdown",
   "metadata": {
    "collapsed": true
   },
   "source": [
    "# Predicting Car Prices - K-Nearest Neighbors Modeling\n",
    "Dataquest.io guided project\n",
    "\n",
    "## Goal: \n",
    "\n",
    "Using a dataset of car features and prices, use the k-nearest neighbors ML algorithm to develop a predictive model for determining a car's market value.\n",
    "\n",
    "## Outcome:\n",
    "\n",
    "After testing each continuous feature,'horsepower' was found to be the most accurate univariate predictor of car price for this dataset. This model returned the average price of the nearest 5 neighbors and had a root mean error of $3,958.\n",
    "\n",
    "Several multivariate models outperformed 'horsepower'. The strongest model included 'horsepower', 'curb-weight', and 'highway-mpg' and measured price for only the nearest 1 neighbor. This model had a root mean error of $2,635."
   ]
  },
  {
   "cell_type": "markdown",
   "metadata": {},
   "source": [
    "## Libraries used\n",
    "\n",
    "1. **Pandas** - data import and dataframes\n",
    "2. **Numpy** - vectorized calculations\n",
    "3. **Matplotlib** - visualization\n",
    "4. **SciKit Learn** \n",
    " - KNeighbors model, \n",
    " - error calculation, \n",
    " - cross validation.\n"
   ]
  },
  {
   "cell_type": "code",
   "execution_count": 1,
   "metadata": {},
   "outputs": [],
   "source": [
    "import pandas as pd\n",
    "import numpy as np\n",
    "import matplotlib.pyplot as plt\n",
    "%matplotlib inline\n",
    "from sklearn.neighbors import KNeighborsRegressor\n",
    "from sklearn.metrics import mean_squared_error\n",
    "from sklearn.model_selection import cross_val_score, KFold"
   ]
  },
  {
   "cell_type": "markdown",
   "metadata": {},
   "source": [
    "## Dataset\n",
    "\n",
    "The data that I will be using for training and prediction comes from [UC - Irvine's Machine Learning Repository](https://archive.ics.uci.edu/ml/datasets/automobile). The dataset contains car specifications including price, insurance risk ratings, and information about normalized losses (insurance). The dataset is from 1985 and was donated to UCI in 1989, so pricing will be relavent to that era.\n",
    "\n",
    "#### Attributes and range of values (from documentation):\n",
    "1. **symboling**: -3, -2, -1, 0, 1, 2, 3.   (This denotes relative risk, with -3 being relatively the least risky compared to peers and +3 being the most risky relative to peers)\n",
    "2. **normalized-losses**: continuous from 65 to 256. \n",
    "3. **make**: \n",
    "alfa-romero, audi, bmw, chevrolet, dodge, honda, \n",
    "isuzu, jaguar, mazda, mercedes-benz, mercury, \n",
    "mitsubishi, nissan, peugot, plymouth, porsche, \n",
    "renault, saab, subaru, toyota, volkswagen, volvo \n",
    "\n",
    "4. **fuel-type**: diesel, gas. \n",
    "5. **aspiration**: std, turbo. \n",
    "6. **num-of-doors**: four, two. \n",
    "7. **body-style**: hardtop, wagon, sedan, hatchback, convertible. \n",
    "8. **drive-wheels**: 4wd, fwd, rwd. \n",
    "9. **engine-location**: front, rear. \n",
    "10. **wheel-base**: continuous from 86.6 120.9. \n",
    "11. **length**: continuous from 141.1 to 208.1. \n",
    "12. **width**: continuous from 60.3 to 72.3. \n",
    "13. **height**: continuous from 47.8 to 59.8. \n",
    "14. **curb-weight**: continuous from 1488 to 4066. \n",
    "15. **engine-type**: dohc, dohcv, l, ohc, ohcf, ohcv, rotor. \n",
    "16. **num-of-cylinders**: eight, five, four, six, three, twelve, two. \n",
    "17. **engine-size**: continuous from 61 to 326. \n",
    "18. **fuel-system**: 1bbl, 2bbl, 4bbl, idi, mfi, mpfi, spdi, spfi. \n",
    "19. **bore**: continuous from 2.54 to 3.94. \n",
    "20. **stroke**: continuous from 2.07 to 4.17. \n",
    "21. **compression-ratio**: continuous from 7 to 23. \n",
    "22. **horsepower**: continuous from 48 to 288. \n",
    "23. **peak-rpm**: continuous from 4150 to 6600. \n",
    "24. **city-mpg**: continuous from 13 to 49. \n",
    "25. **highway-mpg**: continuous from 16 to 54. \n",
    "26. **price**: continuous from 5118 to 45400.\n",
    "\n",
    "## Data Import"
   ]
  },
  {
   "cell_type": "code",
   "execution_count": 2,
   "metadata": {},
   "outputs": [],
   "source": [
    "\n",
    "cols = ['symboling', 'normalized-losses', \n",
    "        'make', 'fuel-type', 'aspiration', \n",
    "        'num-of-doors', 'body-style', \n",
    "        'drive-wheels', 'engine-location', \n",
    "        'wheel-base', 'length', 'width', \n",
    "        'height', 'curb-weight', 'engine-type', \n",
    "        'num-of-cylinders', 'engine-size', \n",
    "        'fuel-system', 'bore', 'stroke', \n",
    "        'compression-rate', 'horsepower', \n",
    "        'peak-rpm', 'city-mpg', \n",
    "        'highway-mpg', 'price']\n",
    "cars = pd.read_csv('imports-85.data', names=cols)"
   ]
  },
  {
   "cell_type": "code",
   "execution_count": 3,
   "metadata": {},
   "outputs": [
    {
     "name": "stdout",
     "output_type": "stream",
     "text": [
      "   symboling normalized-losses         make fuel-type aspiration num-of-doors  \\\n",
      "0          3                 ?  alfa-romero       gas        std          two   \n",
      "1          3                 ?  alfa-romero       gas        std          two   \n",
      "2          1                 ?  alfa-romero       gas        std          two   \n",
      "3          2               164         audi       gas        std         four   \n",
      "4          2               164         audi       gas        std         four   \n",
      "\n",
      "    body-style drive-wheels engine-location  wheel-base  ...    engine-size  \\\n",
      "0  convertible          rwd           front        88.6  ...            130   \n",
      "1  convertible          rwd           front        88.6  ...            130   \n",
      "2    hatchback          rwd           front        94.5  ...            152   \n",
      "3        sedan          fwd           front        99.8  ...            109   \n",
      "4        sedan          4wd           front        99.4  ...            136   \n",
      "\n",
      "   fuel-system  bore  stroke compression-rate horsepower  peak-rpm city-mpg  \\\n",
      "0         mpfi  3.47    2.68              9.0        111      5000       21   \n",
      "1         mpfi  3.47    2.68              9.0        111      5000       21   \n",
      "2         mpfi  2.68    3.47              9.0        154      5000       19   \n",
      "3         mpfi  3.19    3.40             10.0        102      5500       24   \n",
      "4         mpfi  3.19    3.40              8.0        115      5500       18   \n",
      "\n",
      "  highway-mpg  price  \n",
      "0          27  13495  \n",
      "1          27  16500  \n",
      "2          26  16500  \n",
      "3          30  13950  \n",
      "4          22  17450  \n",
      "\n",
      "[5 rows x 26 columns]\n",
      "(205, 26)\n"
     ]
    }
   ],
   "source": [
    "print(cars.head())\n",
    "print(cars.shape)"
   ]
  },
  {
   "cell_type": "markdown",
   "metadata": {},
   "source": [
    "## Feature overview / data cleanup\n",
    "\n",
    "#### Limit Data to continuous numeric features"
   ]
  },
  {
   "cell_type": "code",
   "execution_count": 4,
   "metadata": {},
   "outputs": [],
   "source": [
    "numeric_cols = ['normalized-losses', 'wheel-base', 'length', \n",
    "                'width', 'height', 'curb-weight', 'bore', \n",
    "                'stroke', 'compression-rate', 'horsepower', \n",
    "                'peak-rpm', 'city-mpg', 'highway-mpg', 'price']\n",
    "\n",
    "cars_numeric = cars[numeric_cols].copy()"
   ]
  },
  {
   "cell_type": "markdown",
   "metadata": {},
   "source": [
    "#### Substitute np.nan for '?' missing values."
   ]
  },
  {
   "cell_type": "code",
   "execution_count": 5,
   "metadata": {},
   "outputs": [],
   "source": [
    "cars_numeric = cars_numeric.replace('?', np.nan)"
   ]
  },
  {
   "cell_type": "markdown",
   "metadata": {},
   "source": [
    "#### 'normalized-losses' missing values\n",
    "\n",
    "This column contains 41 missing values, 20% of dataset. This field also describes insurance claim info and not a car-specification, so I feel comfortable removing it from the model."
   ]
  },
  {
   "cell_type": "code",
   "execution_count": 6,
   "metadata": {},
   "outputs": [],
   "source": [
    "cars_numeric = cars_numeric.drop(columns=['normalized-losses'])"
   ]
  },
  {
   "cell_type": "markdown",
   "metadata": {},
   "source": [
    "#### Convert all columns to numeric"
   ]
  },
  {
   "cell_type": "code",
   "execution_count": 7,
   "metadata": {},
   "outputs": [
    {
     "name": "stdout",
     "output_type": "stream",
     "text": [
      "<class 'pandas.core.frame.DataFrame'>\n",
      "RangeIndex: 205 entries, 0 to 204\n",
      "Data columns (total 13 columns):\n",
      "wheel-base          205 non-null float64\n",
      "length              205 non-null float64\n",
      "width               205 non-null float64\n",
      "height              205 non-null float64\n",
      "curb-weight         205 non-null int64\n",
      "bore                201 non-null float64\n",
      "stroke              201 non-null float64\n",
      "compression-rate    205 non-null float64\n",
      "horsepower          203 non-null float64\n",
      "peak-rpm            203 non-null float64\n",
      "city-mpg            205 non-null int64\n",
      "highway-mpg         205 non-null int64\n",
      "price               201 non-null float64\n",
      "dtypes: float64(10), int64(3)\n",
      "memory usage: 20.9 KB\n",
      "None\n"
     ]
    }
   ],
   "source": [
    "cars_numeric = cars_numeric.apply(pd.to_numeric)\n",
    "print(cars_numeric.info())"
   ]
  },
  {
   "cell_type": "markdown",
   "metadata": {},
   "source": [
    "#### Remaining missing values\n",
    "\n",
    "A small number of missing values remain (5% of remaining rows), notably the 4 missing values in price, which is the target field for the regression model. Dropping all records that are missing the target field and inputing all others ('bore', 'stroke', 'horsepower', 'peak-rpm') by filling them in with their column means."
   ]
  },
  {
   "cell_type": "code",
   "execution_count": 8,
   "metadata": {},
   "outputs": [
    {
     "name": "stdout",
     "output_type": "stream",
     "text": [
      "wheel-base          0\n",
      "length              0\n",
      "width               0\n",
      "height              0\n",
      "curb-weight         0\n",
      "bore                4\n",
      "stroke              4\n",
      "compression-rate    0\n",
      "horsepower          2\n",
      "peak-rpm            2\n",
      "city-mpg            0\n",
      "highway-mpg         0\n",
      "price               4\n",
      "dtype: int64\n",
      "(205, 13)\n",
      "*****Validate*******\n",
      "wheel-base          0\n",
      "length              0\n",
      "width               0\n",
      "height              0\n",
      "curb-weight         0\n",
      "bore                0\n",
      "stroke              0\n",
      "compression-rate    0\n",
      "horsepower          0\n",
      "peak-rpm            0\n",
      "city-mpg            0\n",
      "highway-mpg         0\n",
      "price               0\n",
      "dtype: int64\n",
      "(201, 13)\n"
     ]
    }
   ],
   "source": [
    "print(cars_numeric.isnull().sum())\n",
    "print(cars_numeric.shape)\n",
    "cars_numeric = cars_numeric.dropna(subset=['price'])\n",
    "cars_numeric = cars_numeric.fillna(cars_numeric.mean())\n",
    "print(\"*****Validate*******\")\n",
    "print(cars_numeric.isnull().sum())\n",
    "print(cars_numeric.shape)"
   ]
  },
  {
   "cell_type": "markdown",
   "metadata": {},
   "source": [
    "## Normalize Data\n",
    "\n",
    "In order to account for multiple scales used in measuring the various columns, I will be normalizing each column (except the target, price) to a range between 0 and 1 using min-max normalization."
   ]
  },
  {
   "cell_type": "code",
   "execution_count": 9,
   "metadata": {},
   "outputs": [],
   "source": [
    "cars_norm= (cars_numeric-cars_numeric.min())/(cars_numeric.max()-cars_numeric.min())\n",
    "cars_norm['price'] = cars_numeric['price']\n"
   ]
  },
  {
   "cell_type": "code",
   "execution_count": 10,
   "metadata": {},
   "outputs": [
    {
     "name": "stdout",
     "output_type": "stream",
     "text": [
      "   wheel-base    length     width    height  curb-weight      bore    stroke  \\\n",
      "0    0.058309  0.413433  0.324786  0.083333     0.411171  0.664286  0.290476   \n",
      "1    0.058309  0.413433  0.324786  0.083333     0.411171  0.664286  0.290476   \n",
      "2    0.230321  0.449254  0.444444  0.383333     0.517843  0.100000  0.666667   \n",
      "3    0.384840  0.529851  0.504274  0.541667     0.329325  0.464286  0.633333   \n",
      "4    0.373178  0.529851  0.521368  0.541667     0.518231  0.464286  0.633333   \n",
      "\n",
      "   compression-rate  horsepower  peak-rpm  city-mpg  highway-mpg    price  \n",
      "0            0.1250    0.294393  0.346939  0.222222     0.289474  13495.0  \n",
      "1            0.1250    0.294393  0.346939  0.222222     0.289474  16500.0  \n",
      "2            0.1250    0.495327  0.346939  0.166667     0.263158  16500.0  \n",
      "3            0.1875    0.252336  0.551020  0.305556     0.368421  13950.0  \n",
      "4            0.0625    0.313084  0.551020  0.138889     0.157895  17450.0  \n"
     ]
    }
   ],
   "source": [
    "print(cars_norm.head())"
   ]
  },
  {
   "cell_type": "markdown",
   "metadata": {},
   "source": [
    "## Univariate Model\n",
    "\n",
    "Which single features are the best predictors of price when using KNeighbors?\n",
    "\n",
    "To answer this question, I am building a function to do the following:\n",
    "1. Randomize the order of the dataset.\n",
    "2. Split a dataframe into training and testing partitions (50/50)\n",
    "2. Instantiate the model, a sklearn KNeighborsRegressor class .\n",
    "3. Fit the model on the training partition.\n",
    "4. Test the model on the testing partition.\n",
    "5. Calculate mean_squared_error for the prediction vs. actuals.\n",
    "6. Swap training and testing data set and reiterate steps 2-5\n",
    "7. Average the errors from iteration 1 and iteration 2.\n",
    "8. Use the average of the two errors to calculate the root mean squared error.\n",
    "\n",
    "This function can be used to test each feature at various k hyperparameter values to determine which features make the best univariate price predictors and their optimal k values.\n",
    "\n",
    "#### Results (k=5)\n",
    "\n",
    "When using the default k=5 neighbors, the best univariate features for predicting price are horsepower, curb-weight, and highway-mpg. The height feature has the highest error.\n",
    "\n",
    "| Feature | RMSE Value |\n",
    "| - | - |\n",
    "| horsepower | 3958 |\n",
    "| curb-weight | 4133 |\n",
    "| highway-mpg | 4398 |\n",
    "| city-mpg | 4484 |\n",
    "| width | 4506 |\n",
    "| length | 5592 |\n",
    "| wheel-base | 5650 |\n",
    "| compression-rate | 6379 |\n",
    "| bore | 6496 |\n",
    "| stroke | 7680 |\n",
    "| peak-rpm | 7712 |\n",
    "| height | 7964 |\n"
   ]
  },
  {
   "cell_type": "code",
   "execution_count": 11,
   "metadata": {},
   "outputs": [],
   "source": [
    "#Model Train/Test Function\n",
    "def knn_train_test(model_features, target_col, df, k=5):\n",
    "    mses = []\n",
    "    \n",
    "    #randomize dataset\n",
    "    np.random.seed(1)\n",
    "    shuffled_index = np.random.permutation(df.index)\n",
    "    rand_df = df.reindex(shuffled_index).copy()\n",
    "    \n",
    "    #Iteration 1:\n",
    "    #partition\n",
    "    last_training_row = int(rand_df.shape[0] / 2)\n",
    "    train_df = rand_df[:last_training_row].copy()\n",
    "    test_df = rand_df[last_training_row:].copy()\n",
    "    \n",
    "    #Initialize model and fit training data\n",
    "    knn = KNeighborsRegressor(n_neighbors=k, algorithm='auto')\n",
    "    knn.fit(train_df[model_features], train_df[target_col])\n",
    "    \n",
    "    #Predict Test Data Target Col\n",
    "    predictions = knn.predict(test_df[model_features])\n",
    "    \n",
    "    #calculate error of prediction\n",
    "    mse = mean_squared_error(test_df[target_col], predictions)\n",
    "    mses.append(mse)\n",
    "    \n",
    "    ##Iteration 2: (Cross Validation)\n",
    "    #partition\n",
    "    test_df = rand_df[:last_training_row].copy()\n",
    "    train_df = rand_df[last_training_row:].copy()\n",
    "    \n",
    "    #Initialize model and fit training data\n",
    "    knn = KNeighborsRegressor(n_neighbors=k, algorithm='auto')\n",
    "    knn.fit(train_df[model_features], train_df[target_col])\n",
    "    \n",
    "    #Predict Test Data Target Col\n",
    "    predictions = knn.predict(test_df[model_features])\n",
    "    \n",
    "    #calculate error of prediction\n",
    "    mse = mean_squared_error(test_df[target_col], predictions)\n",
    "    mses.append(mse)\n",
    "    \n",
    "    #average mses and return sqrt of result\n",
    "    avg_mse = sum(mses) / len(mses)\n",
    "    avg_rmse = np.sqrt(avg_mse)\n",
    "    \n",
    "    return avg_rmse"
   ]
  },
  {
   "cell_type": "code",
   "execution_count": 12,
   "metadata": {},
   "outputs": [
    {
     "name": "stdout",
     "output_type": "stream",
     "text": [
      "RMSE Values in Dollars\n",
      "----------------------\n",
      "wheel-base: 5650.0\n",
      "length: 5592.0\n",
      "width: 4506.0\n",
      "height: 7964.0\n",
      "curb-weight: 4133.0\n",
      "bore: 6496.0\n",
      "stroke: 7680.0\n",
      "compression-rate: 6379.0\n",
      "horsepower: 3958.0\n",
      "peak-rpm: 7712.0\n",
      "city-mpg: 4484.0\n",
      "highway-mpg: 4398.0\n"
     ]
    }
   ],
   "source": [
    "#Test each feature using default k=5\n",
    "rmses = {}\n",
    "\n",
    "for col in cars_norm.columns:\n",
    "    if col == 'price':\n",
    "        pass\n",
    "    else:\n",
    "        rmse = knn_train_test(model_features=[col], target_col='price', df=cars_norm)\n",
    "        rmses[col] = rmse\n",
    "print(\"RMSE Values in Dollars\")\n",
    "print(\"----------------------\")\n",
    "for key, value in rmses.items():\n",
    "    print(\"{}: {}\".format(key, round(value,0)))\n"
   ]
  },
  {
   "cell_type": "markdown",
   "metadata": {},
   "source": [
    "#### Grid test k-values\n",
    "\n",
    "While horsepower performed the best in the univariate model at k=5, this may not be the best performing feature at other k values. Moreover, k=5 may not be the strongest value for the horsepower feature. In order to test, I am running the previous univariate model, but over all values of k from 1-14.\n",
    "\n",
    "#### Results\n",
    "\n",
    "After testing each feature again for k values from 1-14, horsepower remains the strongest feature in the univariate model when k < 7. k=2 is an improvement over the default value, k=5, with an rmse of 3,761."
   ]
  },
  {
   "cell_type": "code",
   "execution_count": 13,
   "metadata": {},
   "outputs": [
    {
     "name": "stdout",
     "output_type": "stream",
     "text": [
      "3761.450344078112\n"
     ]
    },
    {
     "data": {
      "image/png": "[encoded data removed]",
      "text/plain": [
       "<Figure size 576x432 with 1 Axes>"
      ]
     },
     "metadata": {
      "needs_background": "light"
     },
     "output_type": "display_data"
    }
   ],
   "source": [
    "#test each feature at various k settings and plot results\n",
    "\n",
    "fig, ax = plt.subplots(figsize=(8, 6))\n",
    "\n",
    "col_colors = {\"horsepower\": 'red',\n",
    "          \"curb-weight\": 'orange',\n",
    "          \"highway-mpg\": 'yellow',\n",
    "          \"city-mpg\": 'green',\n",
    "          \"width\": 'blue',\n",
    "          \"length\":  'violet',\n",
    "          \"wheel-base\": 'purple',\n",
    "          \"compression-rate\": 'tomato',\n",
    "          \"bore\": \"coral\",\n",
    "          \"stroke\": \"lime\",\n",
    "          \"peak-rpm\": 'seagreen',\n",
    "          \"height\": \"royalblue\"}\n",
    "\n",
    "for column, color_name in col_colors.items():\n",
    "    column_rmses = []\n",
    "    \n",
    "    #calculate rmse over range of k values for each feature\n",
    "    if column == 'price':\n",
    "        pass\n",
    "    else:\n",
    "        for k in range(1,15):\n",
    "            rmse = knn_train_test(model_features=[column], target_col='price', df=cars_norm, k=k)\n",
    "            column_rmses.append((k, rmse))\n",
    "    #plot        \n",
    "    x_val = [x[0] for x in column_rmses]\n",
    "    y_val = [x[1] for x in column_rmses]\n",
    "    plt.plot(x_val, y_val, c=color_name, label=column)\n",
    "    plt.legend(prop={'size': 8})\n",
    "    \n",
    "#cleanup plot\n",
    "# Hide the right and top spines\n",
    "ax.spines['top'].set_visible(False)\n",
    "ax.spines['right'].set_visible(False)\n",
    "#Hide xticks except bottom\n",
    "ax.tick_params(top=False, left=False, right=False, bottom=False)\n",
    "    \n",
    "lowest_rmse = rmse = knn_train_test(model_features=['horsepower'], target_col='price', df=cars_norm, k=2)\n",
    "print(lowest_rmse)\n",
    "            \n",
    "\n"
   ]
  },
  {
   "cell_type": "markdown",
   "metadata": {
    "collapsed": true
   },
   "source": [
    "## Cross-validation variation\n",
    "\n",
    "The previous models split the data into test/train sets with 50% of the data in each. In order to incorporate more data into the training model, I'm running a variation using KFolds cross-validation. The new function will partition the data into 5 sets and use each as the test set while the remaining 4 serve as the training sets. The errors from each iteration will be averaged together to create one RMSE value for each feature.\n",
    "\n",
    "#### Result\n",
    "\n",
    "In the KFolds cross-validation variation of the model, horsepower is once again the strongest feature. In the grid test of k, k=5 resulted in the lowest error."
   ]
  },
  {
   "cell_type": "code",
   "execution_count": 14,
   "metadata": {},
   "outputs": [],
   "source": [
    "#Model knn kfolds cross-validation function\n",
    "def knn_kfolds(model_features, target_col, df, k, n_folds=5): \n",
    "    #randomize dataset\n",
    "    np.random.seed(1)\n",
    "    shuffled_index = np.random.permutation(df.index)\n",
    "    rand_df = df.reindex(shuffled_index).copy()\n",
    "    \n",
    "    #k-folds cross validation using knn model\n",
    "    knn = KNeighborsRegressor(n_neighbors=k)\n",
    "    kf = KFold(n_splits=n_folds, shuffle=True)\n",
    "    mses = cross_val_score(knn, np.array(rand_df[model_features]), rand_df[target_col], scoring='neg_mean_squared_error', cv=kf)\n",
    "    \n",
    "    #average mses and return sqrt of result\n",
    "    avg_mse = sum(abs(mses)) / len(mses)\n",
    "    avg_rmse = np.sqrt(avg_mse)\n",
    "    \n",
    "    return avg_rmse"
   ]
  },
  {
   "cell_type": "code",
   "execution_count": 15,
   "metadata": {},
   "outputs": [
    {
     "data": {
      "image/png": "[encoded data removed]",
      "text/plain": [
       "<Figure size 576x432 with 1 Axes>"
      ]
     },
     "metadata": {
      "needs_background": "light"
     },
     "output_type": "display_data"
    }
   ],
   "source": [
    "#Grid test and plot\n",
    "fig2, ax2 = plt.subplots(figsize=(8, 6))\n",
    "\n",
    "col_colors = {\"horsepower\": 'red',\n",
    "          \"curb-weight\": 'orange',\n",
    "          \"highway-mpg\": 'yellow',\n",
    "          \"city-mpg\": 'green',\n",
    "          \"width\": 'blue',\n",
    "          \"length\":  'violet',\n",
    "          \"wheel-base\": 'purple',\n",
    "          \"compression-rate\": 'tomato',\n",
    "          \"bore\": \"coral\",\n",
    "          \"stroke\": \"lime\",\n",
    "          \"peak-rpm\": 'seagreen',\n",
    "          \"height\": \"royalblue\"}\n",
    "\n",
    "for column, color_name in col_colors.items():\n",
    "    column_rmses = []\n",
    "    \n",
    "    #calculate rmse over range of k values for each feature\n",
    "    if column == 'price':\n",
    "        pass\n",
    "    else:\n",
    "        for k in range(1,15):\n",
    "            rmse = knn_kfolds(model_features=[column], target_col='price', df=cars_norm, k=k)\n",
    "            column_rmses.append((k, rmse))\n",
    "    #plot        \n",
    "    x_val = [x[0] for x in column_rmses]\n",
    "    y_val = [x[1] for x in column_rmses]\n",
    "    plt.plot(x_val, y_val, c=color_name, label=column)\n",
    "    plt.legend(prop={'size': 8})\n",
    "    \n",
    "#cleanup plot\n",
    "# Hide the right and top spines\n",
    "ax2.spines['top'].set_visible(False)\n",
    "ax2.spines['right'].set_visible(False)\n",
    "#Hide xticks except bottom\n",
    "ax2.tick_params(top=False, left=False, right=False, bottom=False)\n",
    "\n"
   ]
  },
  {
   "cell_type": "markdown",
   "metadata": {
    "collapsed": true
   },
   "source": [
    "## Multivariate Models\n",
    "\n",
    "Now that I have an understanding of how features perform in univariate models, it is time to start combining them into multivariate models and observing changes in RMSE. To select features for each model, I'll begin with the top two univariate features and then add the next best feature each iteration until I reach five features. Each iteration will use a grid test for k.\n",
    "\n",
    "#### Results\n",
    "\n",
    "The highest performing model uses the top three features, 'horsepower', 'curb-weight', and 'highway-mpg', at k=1. This final model is able to predict price with an average error of 2,635."
   ]
  },
  {
   "cell_type": "code",
   "execution_count": 16,
   "metadata": {},
   "outputs": [
    {
     "name": "stdout",
     "output_type": "stream",
     "text": [
      "k = 1 results:\n",
      "[2783.0065993804474, 2694.6566661930306, 2635.2609125001686, 2804.943627971436]\n",
      "---------------\n",
      "k = 2 results:\n",
      "[3012.442888741101, 2673.160745551019, 2798.196519150609, 2958.7671663438045]\n",
      "---------------\n",
      "k = 3 results:\n",
      "[3034.6419438362036, 2925.5421642023452, 3013.104211826719, 2988.9323720499847]\n",
      "---------------\n",
      "k = 4 results:\n",
      "[3046.2989547243847, 3056.05333160929, 3178.102682417983, 3120.8639389469076]\n",
      "---------------\n",
      "k = 5 results:\n",
      "[3061.345729488673, 3235.6428432859084, 3314.899854725409, 3232.537933862267]\n",
      "---------------\n",
      "k = 6 results:\n",
      "[3180.5908519908085, 3328.3765525191225, 3416.0325799594143, 3287.4574852970345]\n",
      "---------------\n",
      "k = 7 results:\n",
      "[3296.3478366084023, 3419.1337933243503, 3478.0861491574183, 3367.199531869414]\n",
      "---------------\n",
      "k = 8 results:\n",
      "[3411.893777571374, 3516.6250253001203, 3623.8383048966475, 3390.315168367845]\n",
      "---------------\n",
      "k = 9 results:\n",
      "[3514.455480792072, 3649.6997700623124, 3731.3328566404484, 3478.617965349999]\n",
      "---------------\n",
      "k = 10 results:\n",
      "[3614.1947412257214, 3741.5008839945112, 3751.6700920203198, 3625.6388754649747]\n",
      "---------------\n",
      "k = 11 results:\n",
      "[3706.9647845317218, 3815.8845132869515, 3861.920828164592, 3674.773582020545]\n",
      "---------------\n",
      "k = 12 results:\n",
      "[3773.295945099887, 3878.87279510629, 3895.1107829379184, 3763.8463167257346]\n",
      "---------------\n",
      "k = 13 results:\n",
      "[3875.277502768691, 3946.253804694956, 3939.977321333318, 3881.20044997894]\n",
      "---------------\n",
      "k = 14 results:\n",
      "[3897.6374829546235, 4013.937043816411, 3983.6903697540683, 3900.1910439767626]\n",
      "---------------\n",
      "k = 15 results:\n",
      "[3967.5558528686115, 4034.2867291419216, 4060.0048028411525, 3974.8934523354856]\n",
      "---------------\n",
      "k = 16 results:\n",
      "[4019.330289640941, 4108.6174568363185, 4113.36986582618, 4017.067335873911]\n",
      "---------------\n",
      "k = 17 results:\n",
      "[4078.327222246107, 4139.234638869579, 4164.784882576559, 4099.452277300474]\n",
      "---------------\n",
      "k = 18 results:\n",
      "[4157.737403558766, 4184.116017695394, 4240.84461696889, 4153.553766634027]\n",
      "---------------\n",
      "k = 19 results:\n",
      "[4187.474101493686, 4269.95193354992, 4311.948549727167, 4184.549577867706]\n",
      "---------------\n",
      "k = 20 results:\n",
      "[4214.680211047358, 4292.406682398653, 4346.905022763077, 4197.998160664191]\n",
      "---------------\n",
      "k = 21 results:\n",
      "[4238.097910937673, 4302.788809901141, 4377.347645738962, 4233.076351381256]\n",
      "---------------\n",
      "k = 22 results:\n",
      "[4265.415210710073, 4337.052258175085, 4402.853104312029, 4295.5415158865535]\n",
      "---------------\n",
      "k = 23 results:\n",
      "[4278.952094395236, 4378.813137693584, 4425.805046533031, 4318.268786189971]\n",
      "---------------\n",
      "k = 24 results:\n",
      "[4305.013601462866, 4383.131264926515, 4444.96637927624, 4349.038751823413]\n",
      "---------------\n",
      "k = 25 results:\n",
      "[4336.806756499117, 4394.615673499384, 4455.95997638331, 4373.844727782663]\n",
      "---------------\n"
     ]
    }
   ],
   "source": [
    "top_two_features = ['horsepower','curb-weight']\n",
    "top_three_features = ['horsepower','curb-weight', 'highway-mpg']\n",
    "top_four_features = ['horsepower','curb-weight', 'highway-mpg', 'city-mpg']\n",
    "top_five_features = ['horsepower','curb-weight', 'highway-mpg', 'city-mpg', 'width']\n",
    "\n",
    "for n in range(1,26):\n",
    "    rmses = []\n",
    "    rmses.append(knn_kfolds(model_features=top_two_features, target_col='price', df=cars_norm, k=n))\n",
    "    rmses.append(knn_kfolds(model_features=top_three_features, target_col='price', df=cars_norm, k=n))\n",
    "    rmses.append(knn_kfolds(model_features=top_four_features, target_col='price', df=cars_norm, k=n))\n",
    "    rmses.append(knn_kfolds(model_features=top_five_features, target_col='price', df=cars_norm, k=n))\n",
    "    print('k = {} results:'.format(n))\n",
    "    print(rmses)\n",
    "    print(\"---------------\")"
   ]
  },
  {
   "cell_type": "code",
   "execution_count": null,
   "metadata": {},
   "outputs": [],
   "source": []
  }
 ],
 "metadata": {
  "kernelspec": {
   "display_name": "Python 3",
   "language": "python",
   "name": "python3"
  },
  "language_info": {
   "codemirror_mode": {
    "name": "ipython",
    "version": 3
   },
   "file_extension": ".py",
   "mimetype": "text/x-python",
   "name": "python",
   "nbconvert_exporter": "python",
   "pygments_lexer": "ipython3",
   "version": "3.7.1"
  }
 },
 "nbformat": 4,
 "nbformat_minor": 2
}
